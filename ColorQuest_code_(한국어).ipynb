{
  "nbformat": 4,
  "nbformat_minor": 0,
  "metadata": {
    "colab": {
      "provenance": [],
      "authorship_tag": "ABX9TyNxPpEOfGmTWV8iQD9ZfIx0",
      "include_colab_link": true
    },
    "kernelspec": {
      "name": "python3",
      "display_name": "Python 3"
    },
    "language_info": {
      "name": "python"
    }
  },
  "cells": [
    {
      "cell_type": "markdown",
      "metadata": {
        "id": "view-in-github",
        "colab_type": "text"
      },
      "source": [
        "<a href=\"https://colab.research.google.com/github/pixelwizard2/Project.AI--ColorQuest---AI-s-Journey-in-Reviving-WWII-Imagery/blob/main/ColorQuest_code_(%ED%95%9C%EA%B5%AD%EC%96%B4).ipynb\" target=\"_parent\"><img src=\"https://colab.research.google.com/assets/colab-badge.svg\" alt=\"Open In Colab\"/></a>"
      ]
    },
    {
      "cell_type": "markdown",
      "source": [
        "ㅎ\n",
        "\n"
      ],
      "metadata": {
        "id": "-ZuV8iMyG720"
      }
    },
    {
      "cell_type": "code",
      "source": [],
      "metadata": {
        "id": "A4D80NXOG9Q5"
      },
      "execution_count": null,
      "outputs": []
    }
  ]
}